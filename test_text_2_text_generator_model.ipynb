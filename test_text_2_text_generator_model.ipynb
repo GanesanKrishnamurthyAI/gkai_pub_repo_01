{
  "nbformat": 4,
  "nbformat_minor": 0,
  "metadata": {
    "colab": {
      "provenance": [],
      "authorship_tag": "ABX9TyOBg1AByR4t3kXbNrNbLj6t",
      "include_colab_link": true
    },
    "kernelspec": {
      "name": "python3",
      "display_name": "Python 3"
    },
    "language_info": {
      "name": "python"
    }
  },
  "cells": [
    {
      "cell_type": "markdown",
      "metadata": {
        "id": "view-in-github",
        "colab_type": "text"
      },
      "source": [
        "<a href=\"https://colab.research.google.com/github/GanesanKrishnamurthyAI/gkai_pub_repo_01/blob/main/test_text_2_text_generator_model.ipynb\" target=\"_parent\"><img src=\"https://colab.research.google.com/assets/colab-badge.svg\" alt=\"Open In Colab\"/></a>"
      ]
    },
    {
      "cell_type": "code",
      "execution_count": 1,
      "metadata": {
        "id": "mEHJRSJLu3JQ"
      },
      "outputs": [],
      "source": [
        "from transformers import AutoTokenizer, AutoModelForCausalLM, pipeline, AutoModelForSeq2SeqLM"
      ]
    },
    {
      "cell_type": "code",
      "source": [
        "my_model = \"lmsys/fastchat-t5-3b-v1.0\"\n",
        "tokenizer = AutoTokenizer.from_pretrained(my_model, legacy=False)\n",
        "pt_model = AutoModelForSeq2SeqLM.from_pretrained(my_model)\n",
        "pipeline = pipeline(\"text2text-generation\", model=my_model, tokenizer=tokenizer)"
      ],
      "metadata": {
        "colab": {
          "base_uri": "https://localhost:8080/"
        },
        "id": "xl8OrzoYwBas",
        "outputId": "03077cad-334c-429d-b1b1-ce99f3460f5f"
      },
      "execution_count": null,
      "outputs": [
        {
          "output_type": "stream",
          "name": "stderr",
          "text": [
            "Special tokens have been added in the vocabulary, make sure the associated word embeddings are fine-tuned or trained.\n",
            "Special tokens have been added in the vocabulary, make sure the associated word embeddings are fine-tuned or trained.\n"
          ]
        }
      ]
    }
  ]
}